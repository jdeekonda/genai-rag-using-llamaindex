{
 "cells": [
  {
   "cell_type": "code",
   "execution_count": 1,
   "metadata": {},
   "outputs": [],
   "source": [
    "%%capture\n",
    "!pip install llama-index==0.10.37 html2text"
   ]
  },
  {
   "cell_type": "code",
   "execution_count": 2,
   "metadata": {},
   "outputs": [
    {
     "data": {
      "text/plain": [
       "False"
      ]
     },
     "execution_count": 2,
     "metadata": {},
     "output_type": "execute_result"
    }
   ],
   "source": [
    "import os\n",
    "\n",
    "from getpass import getpass\n",
    "import nest_asyncio\n",
    "\n",
    "from dotenv import load_dotenv\n",
    "\n",
    "nest_asyncio.apply()\n",
    "\n",
    "load_dotenv()"
   ]
  },
  {
   "cell_type": "markdown",
   "metadata": {},
   "source": [
    "# 📂 **Loading Data**\n",
    "\n",
    "Preparing your data for an LLM involves an ingestion pipeline similar to ML data cleaning or traditional ETL processes.\n",
    "\n",
    "### **Ingestion Pipeline Stages**\n",
    "  - 📥 Load the data\n",
    "  - 🔧 Transform the data\n",
    "  - 🗃️ Index and store the data\n",
    "\n",
    "\n",
    "Let's start by downloading some example files"
   ]
  },
  {
   "cell_type": "code",
   "execution_count": 3,
   "metadata": {},
   "outputs": [
    {
     "name": "stdout",
     "output_type": "stream",
     "text": [
      "Downloaded pg1.txt to ../data/pg1.txt\n",
      "Downloaded pg2.txt to ../data/pg2.txt\n",
      "Downloaded pg3.txt to ../data/pg3.txt\n",
      "Downloaded pg4.txt to ../data/pg4.txt\n",
      "Downloaded pg5.txt to ../data/pg5.txt\n",
      "Downloaded pg6.txt to ../data/pg6.txt\n",
      "Downloaded pg7.txt to ../data/pg7.txt\n",
      "Downloaded pg8.txt to ../data/pg8.txt\n",
      "Downloaded pg9.txt to ../data/pg9.txt\n",
      "Downloaded pg10.txt to ../data/pg10.txt\n"
     ]
    }
   ],
   "source": [
    "import requests\n",
    "from pathlib import Path\n",
    "\n",
    "# Base URL for Project Gutenberg texts\n",
    "base_url = \"https://www.gutenberg.org/cache/epub/{book_id}/pg{book_id}.txt\"\n",
    "\n",
    "# Directory to save the downloaded files\n",
    "directory = Path(\"../data\")\n",
    "\n",
    "# Create the directory if it doesn't exist\n",
    "directory.mkdir(parents=True, exist_ok=True)\n",
    "\n",
    "# Generate a list of book IDs to download\n",
    "book_ids = range(1, 11)  # This will create a range from 1 to 10\n",
    "\n",
    "# Generate URLs for each book ID\n",
    "urls = [base_url.format(book_id=book_id) for book_id in book_ids]\n",
    "\n",
    "# Download each file and save it in the specified directory\n",
    "for url in urls:\n",
    "    response = requests.get(url)\n",
    "    if response.status_code == 200:\n",
    "        # Extract the filename from the URL using the book ID and create a file name\n",
    "        book_id = url.split('/')[-2]  # Extracts the book ID from the URL\n",
    "        filename = f\"pg{book_id}.txt\"\n",
    "        file_path = directory / filename\n",
    "        # Save the file to the specified directory\n",
    "        file_path.write_text(response.text)\n",
    "        print(f\"Downloaded {filename} to {file_path}\")\n",
    "    else:\n",
    "        print(f\"Failed to download {url}. HTTP status code: {response.status_code}\")"
   ]
  },
  {
   "cell_type": "markdown",
   "metadata": {},
   "source": [
    "# 📥 Load the data\n",
    "\n",
    "To use data with an LLM, first load it using data connectors, known as `Readers` in LlamaIndex, which format data into `Document` objects containing data and metadata.\n",
    "\n",
    "📚 **SimpleDirectoryReader**:\n",
    "  - The most straightforward loader is `SimpleDirectoryReader``.\n",
    "  - Built into LlamaIndex, it reads various formats (Markdown, PDFs, Word documents, PowerPoint decks, images, audio, video) from every file in a directory, creating documents."
   ]
  },
  {
   "cell_type": "code",
   "execution_count": 18,
   "metadata": {},
   "outputs": [
    {
     "name": "stderr",
     "output_type": "stream",
     "text": [
      "[nltk_data] Downloading package stopwords to\n",
      "[nltk_data]     /opt/conda/envs/lil_llama_index/lib/python3.10/site-\n",
      "[nltk_data]     packages/llama_index/legacy/_static/nltk_cache...\n",
      "[nltk_data]   Unzipping corpora/stopwords.zip.\n",
      "[nltk_data] Downloading package punkt to\n",
      "[nltk_data]     /opt/conda/envs/lil_llama_index/lib/python3.10/site-\n",
      "[nltk_data]     packages/llama_index/legacy/_static/nltk_cache...\n",
      "[nltk_data]   Unzipping tokenizers/punkt.zip.\n"
     ]
    }
   ],
   "source": [
    "from llama_index.legacy.readers.file.base import SimpleDirectoryReader\n",
    "\n",
    "documents = SimpleDirectoryReader(\"../data\", required_exts=[\".txt\"], num_files_limit=10).load_data()"
   ]
  },
  {
   "cell_type": "code",
   "execution_count": 36,
   "metadata": {},
   "outputs": [
    {
     "data": {
      "text/plain": [
       "10"
      ]
     },
     "execution_count": 36,
     "metadata": {},
     "output_type": "execute_result"
    }
   ],
   "source": [
    "len(documents)"
   ]
  },
  {
   "cell_type": "code",
   "execution_count": 20,
   "metadata": {},
   "outputs": [
    {
     "data": {
      "text/plain": [
       "llama_index.legacy.schema.Document"
      ]
     },
     "execution_count": 20,
     "metadata": {},
     "output_type": "execute_result"
    }
   ],
   "source": [
    "type(documents[0])"
   ]
  },
  {
   "cell_type": "code",
   "execution_count": 35,
   "metadata": {},
   "outputs": [
    {
     "data": {
      "text/plain": [
       "{'id_': '24c69405-8aad-4ebf-aeb3-f9f797675e58',\n",
       " 'embedding': None,\n",
       " 'metadata': {'file_path': '../data/pg3.txt',\n",
       "  'file_name': 'pg3.txt',\n",
       "  'file_type': 'text/plain',\n",
       "  'file_size': 27647,\n",
       "  'creation_date': '2024-11-13',\n",
       "  'last_modified_date': '2024-11-13',\n",
       "  'last_accessed_date': '2024-11-13'},\n",
       " 'excluded_embed_metadata_keys': ['file_name',\n",
       "  'file_type',\n",
       "  'file_size',\n",
       "  'creation_date',\n",
       "  'last_modified_date',\n",
       "  'last_accessed_date'],\n",
       " 'excluded_llm_metadata_keys': ['file_name',\n",
       "  'file_type',\n",
       "  'file_size',\n",
       "  'creation_date',\n",
       "  'last_modified_date',\n",
       "  'last_accessed_date'],\n",
       " 'relationships': {},\n",
       " 'text': '\\ufeffThe Project Gutenberg eBook of John F. Kennedy\\'s Inaugural Address\\n    \\nThis ebook is for the use of anyone anywhere in the United States and\\nmost other parts of the world at no cost and with almost no restrictions\\nwhatsoever. You may copy it, give it away or re-use it under the terms\\nof the Project Gutenberg License included with this ebook or online\\nat www.gutenberg.org. If you are not located in the United States,\\nyou will have to check the laws of the country where you are located\\nbefore using this eBook.\\n\\nTitle: John F. Kennedy\\'s Inaugural Address\\n\\nAuthor: John F. Kennedy\\n\\nRelease date: November 1, 1973 [eBook #3]\\n                Most recently updated: February 9, 2024\\n\\nLanguage: English\\n\\n\\n\\n*** START OF THE PROJECT GUTENBERG EBOOK JOHN F. KENNEDY\\'S INAUGURAL ADDRESS ***\\n\\n\\n\\n\\nJFK\\'s Inaugural Address, January 20, 1961, 12:11 EST\\n\\n\\nWe observe today not a victory of party but a celebration of freedom. . .\\nsymbolizing an end as well as a beginning. . .signifying renewal\\nas well as change for I have sworn before you and Almighty God\\nthe same solemn oath our forbears prescribed nearly a century\\nand three-quarters ago.\\n\\nThe world is very different now, for man holds in his mortal hands\\nthe power to abolish all forms of human poverty and all forms of human life.\\nAnd yet the same revolutionary beliefs for which our forbears fought\\nare still at issue around the globe. . .the belief that the rights of man\\ncome not from the generosity of the state but from the hand of God.\\nWe dare not forget today that we are the heirs of that first revolution.\\n\\nLet the word go forth from this time and place. . .to friend and foe alike. . .\\nthat the torch has been passed to a new generation of Americans. . .\\nborn in this century, tempered by war, disciplined by a hard and bitter peace,\\nproud of our ancient heritage. . .and unwilling to witness or permit the slow\\nundoing of those human rights to which this nation has always been committed,\\nand to which we are committed today. . .at home and around the world.\\n\\nLet every nation know. . .whether it wishes us well or ill. . .\\nthat we shall pay any price, bear any burden, meet any hardship,\\nsupport any friend, oppose any foe, to assure the survival and\\nthe success of liberty.  This much we pledge. . .and more.\\n\\nTo those old allies whose cultural and spiritual origins we share:\\nwe pledge the loyalty of faithful friends.  United. . .there is\\nlittle we cannot do in a host of co-operative ventures.\\nDivided. . .there is little we can do. . .for we dare not meet\\na powerful challenge, at odds, and split asunder.\\nTo those new states whom we welcome to the ranks of the free:\\nwe pledge our word that one form of colonial control shall not\\nhave passed away merely to be replaced by a far more iron tyranny.\\nWe shall not always expect to find them supporting our view.\\nBut we shall always hope to find them strongly supporting their\\nown freedom. . .and to remember that. . .in the past. . .those who\\nfoolishly sought power by riding the back of the tiger ended up inside.\\nTo those people in the huts and villages of half the globe\\nstruggling to break the bonds of mass misery:  we pledge our best\\nefforts to help them help themselves, for whatever period\\nis required. . .not because the Communists may be doing it,\\nnot because we seek their votes, but because it is right.\\nIf a free society cannot help the many who are poor,\\nit cannot save the few who are rich.\\n\\nTo our sister republics south of our border:  we offer a special pledge. . .\\nto convert our good words into good deeds. . .in a new alliance for progress\\n. . .to assist free men and free governments in casting off the chains of\\npoverty.  But this peaceful revolution of hope cannot become the prey of\\nhostile powers.  Let all our neighbors know that we shall join with them\\nto oppose aggression or subversion anywhere in the Americas. . .and let\\nevery other power know that this hemisphere intends to remain the master\\nof its own house.\\n\\nTo that world assembly of sovereign states:  the United Nations. . .\\nour last best hope in an age where the instruments of war\\nhave far outpaced the instruments of peace, we renew our pledge\\nof support. . .to prevent it from becoming merely a forum for\\ninvective. . .to strengthen its shield of the new and the weak. . .\\nand to enlarge the area in which its writ may run.\\n\\nFinally, to those nations who would make themselves our adversaries,\\nwe offer not a pledge but a request:  that both sides begin anew\\nthe quest for peace; before the dark powers of destruction unleashed\\nby science engulf all humanity in planned or accidental self-destruction.\\nWe dare not tempt them with weakness.  For only when our arms are sufficient\\nbeyond doubt can we be certain beyond doubt that they will never be employed.\\nBut neither can two great and powerful groups of nations take comfort from\\nour present course. . .both sides overburdened by the cost of modern weapons,\\nboth rightly alarmed by the steady spread of the deadly atom, yet both racing\\nto alter that uncertain balance of terror that stays the hand of Mankind\\'s\\nfinal war.\\n\\nSo let us begin anew. . .remembering on both sides that civility\\nis not a sign of weakness, and sincerity is always subject to proof.\\nLet us never negotiate out of fear, but let us never fear to negotiate.\\nLet both sides explore what problems unite us instead of belaboring\\nthose problems which divide us.  Let both sides, for the first time,\\nformulate serious and precise proposals for the inspection and\\ncontrol of arms. . .and bring the absolute power to destroy\\nother nations under the absolute control of all nations.\\nLet both sides seek to invoke the wonders of science instead\\nof its terrors.  Together let us explore the stars, conquer the\\ndeserts, eradicate disease, tap the ocean depths, and encourage\\nthe arts and commerce.  Let both sides unite to heed in all corners\\nof the earth the command of Isaiah. . .to \"undo the heavy burdens. . .\\nlet the oppressed go free.\"\\n\\nAnd if a beachhead of co-operation may push back the jungle of suspicion. . .\\nlet both sides join in creating not a new balance of power. . .\\nbut a new world of law. . .where the strong are just. . .\\nand the weak secure. . .and the peace preserved. . . .\\n\\nAll this will not be finished in the first one hundred days.\\nNor will it be finished in the first one thousand days. . .\\nnor in the life of this administration, nor even perhaps\\nin our lifetime on this planet.  But let us begin.\\n\\nIn your hands, my fellow citizens. . .more than mine. . .will rest the\\nfinal success or failure of our course.  Since this country was founded,\\neach generation of Americans has been summoned to give testimony\\nto its national loyalty.  The graves of young Americans who answered\\nthe call to service surround the globe.  Now the trumpet summons us again. . .\\nnot as a call to bear arms, though arms we need. . .not as a call to battle. . .\\nthough embattled we are. . .but a call to bear the burden of a long\\ntwilight struggle. . .year in and year out, rejoicing in hope,\\npatient in tribulation. . .a struggle against the common enemies of man:\\ntyranny. . .poverty. . .disease. . .and war itself.  Can we forge against\\nthese enemies a grand and global alliance. . .North and South. . .\\nEast and West. . .that can assure a more fruitful life for all mankind?\\nWill you join in that historic effort?\\n\\nIn the long history of the world, only a few generations have been granted\\nthe role of defending freedom in its hour of maximum danger; I do not shrink\\nfrom this responsibility. . .I welcome it.  I do not believe that any of us\\nwould exchange places with any other people or any other generation.\\nThe energy, the faith, the devotion which we bring to this endeavor\\nwill light our country and all who serve it. . .and the glow from\\nthat fire can truly light the world.\\n\\nAnd so, my fellow Americans. . .ask not what your country can\\ndo for you. . .ask what you can do for your country.  My fellow\\ncitizens of the world. . .ask not what America will do for you,\\nbut what together we can do for the Freedom of Man.\\n\\nFinally, whether you are citizens of America or citizens of the world,\\nask of us here the same high standards of strength and sacrifice\\nwhich we ask of you.  With a good conscience our only sure reward,\\nwith history the final judge of our deeds; let us go forth to lead\\nthe land we love, asking His blessing and His help, but knowing that\\nhere on earth God\\'s work must truly be our own.\\n\\n\\n\\n\\n*** END OF THE PROJECT GUTENBERG EBOOK JOHN F. KENNEDY\\'S INAUGURAL ADDRESS ***\\n\\n\\n    \\n\\nUpdated editions will replace the previous one—the old editions will\\nbe renamed.\\n\\nCreating the works from print editions not protected by U.S. copyright\\nlaw means that no one owns a United States copyright in these works,\\nso the Foundation (and you!) can copy and distribute it in the United\\nStates without permission and without paying copyright\\nroyalties. Special rules, set forth in the General Terms of Use part\\nof this license, apply to copying and distributing Project\\nGutenberg™ electronic works to protect the PROJECT GUTENBERG™\\nconcept and trademark. Project Gutenberg is a registered trademark,\\nand may not be used if you charge for an eBook, except by following\\nthe terms of the trademark license, including paying royalties for use\\nof the Project Gutenberg trademark. If you do not charge anything for\\ncopies of this eBook, complying with the trademark license is very\\neasy. You may use this eBook for nearly any purpose such as creation\\nof derivative works, reports, performances and research. Project\\nGutenberg eBooks may be modified and printed and given away—you may\\ndo practically ANYTHING in the United States with eBooks not protected\\nby U.S. copyright law. Redistribution is subject to the trademark\\nlicense, especially commercial redistribution.\\n\\n\\nSTART: FULL LICENSE\\n\\nTHE FULL PROJECT GUTENBERG LICENSE\\n\\nPLEASE READ THIS BEFORE YOU DISTRIBUTE OR USE THIS WORK\\n\\nTo protect the Project Gutenberg™ mission of promoting the free\\ndistribution of electronic works, by using or distributing this work\\n(or any other work associated in any way with the phrase “Project\\nGutenberg”), you agree to comply with all the terms of the Full\\nProject Gutenberg™ License available with this file or online at\\nwww.gutenberg.org/license.\\n\\nSection 1. General Terms of Use and Redistributing Project Gutenberg™\\nelectronic works\\n\\n1.A. By reading or using any part of this Project Gutenberg™\\nelectronic work, you indicate that you have read, understand, agree to\\nand accept all the terms of this license and intellectual property\\n(trademark/copyright) agreement. If you do not agree to abide by all\\nthe terms of this agreement, you must cease using and return or\\ndestroy all copies of Project Gutenberg™ electronic works in your\\npossession. If you paid a fee for obtaining a copy of or access to a\\nProject Gutenberg™ electronic work and you do not agree to be bound\\nby the terms of this agreement, you may obtain a refund from the person\\nor entity to whom you paid the fee as set forth in paragraph 1.E.8.\\n\\n1.B. “Project Gutenberg” is a registered trademark. It may only be\\nused on or associated in any way with an electronic work by people who\\nagree to be bound by the terms of this agreement. There are a few\\nthings that you can do with most Project Gutenberg™ electronic works\\neven without complying with the full terms of this agreement. See\\nparagraph 1.C below. There are a lot of things you can do with Project\\nGutenberg™ electronic works if you follow the terms of this\\nagreement and help preserve free future access to Project Gutenberg™\\nelectronic works. See paragraph 1.E below.\\n\\n1.C. The Project Gutenberg Literary Archive Foundation (“the\\nFoundation” or PGLAF), owns a compilation copyright in the collection\\nof Project Gutenberg™ electronic works. Nearly all the individual\\nworks in the collection are in the public domain in the United\\nStates. If an individual work is unprotected by copyright law in the\\nUnited States and you are located in the United States, we do not\\nclaim a right to prevent you from copying, distributing, performing,\\ndisplaying or creating derivative works based on the work as long as\\nall references to Project Gutenberg are removed. Of course, we hope\\nthat you will support the Project Gutenberg™ mission of promoting\\nfree access to electronic works by freely sharing Project Gutenberg™\\nworks in compliance with the terms of this agreement for keeping the\\nProject Gutenberg™ name associated with the work. You can easily\\ncomply with the terms of this agreement by keeping this work in the\\nsame format with its attached full Project Gutenberg™ License when\\nyou share it without charge with others.\\n\\n1.D. The copyright laws of the place where you are located also govern\\nwhat you can do with this work. Copyright laws in most countries are\\nin a constant state of change. If you are outside the United States,\\ncheck the laws of your country in addition to the terms of this\\nagreement before downloading, copying, displaying, performing,\\ndistributing or creating derivative works based on this work or any\\nother Project Gutenberg™ work. The Foundation makes no\\nrepresentations concerning the copyright status of any work in any\\ncountry other than the United States.\\n\\n1.E. Unless you have removed all references to Project Gutenberg:\\n\\n1.E.1. The following sentence, with active links to, or other\\nimmediate access to, the full Project Gutenberg™ License must appear\\nprominently whenever any copy of a Project Gutenberg™ work (any work\\non which the phrase “Project Gutenberg” appears, or with which the\\nphrase “Project Gutenberg” is associated) is accessed, displayed,\\nperformed, viewed, copied or distributed:\\n\\n    This eBook is for the use of anyone anywhere in the United States and most\\n    other parts of the world at no cost and with almost no restrictions\\n    whatsoever. You may copy it, give it away or re-use it under the terms\\n    of the Project Gutenberg License included with this eBook or online\\n    at www.gutenberg.org. If you\\n    are not located in the United States, you will have to check the laws\\n    of the country where you are located before using this eBook.\\n  \\n1.E.2. If an individual Project Gutenberg™ electronic work is\\nderived from texts not protected by U.S. copyright law (does not\\ncontain a notice indicating that it is posted with permission of the\\ncopyright holder), the work can be copied and distributed to anyone in\\nthe United States without paying any fees or charges. If you are\\nredistributing or providing access to a work with the phrase “Project\\nGutenberg” associated with or appearing on the work, you must comply\\neither with the requirements of paragraphs 1.E.1 through 1.E.7 or\\nobtain permission for the use of the work and the Project Gutenberg™\\ntrademark as set forth in paragraphs 1.E.8 or 1.E.9.\\n\\n1.E.3. If an individual Project Gutenberg™ electronic work is posted\\nwith the permission of the copyright holder, your use and distribution\\nmust comply with both paragraphs 1.E.1 through 1.E.7 and any\\nadditional terms imposed by the copyright holder. Additional terms\\nwill be linked to the Project Gutenberg™ License for all works\\nposted with the permission of the copyright holder found at the\\nbeginning of this work.\\n\\n1.E.4. Do not unlink or detach or remove the full Project Gutenberg™\\nLicense terms from this work, or any files containing a part of this\\nwork or any other work associated with Project Gutenberg™.\\n\\n1.E.5. Do not copy, display, perform, distribute or redistribute this\\nelectronic work, or any part of this electronic work, without\\nprominently displaying the sentence set forth in paragraph 1.E.1 with\\nactive links or immediate access to the full terms of the Project\\nGutenberg™ License.\\n\\n1.E.6. You may convert to and distribute this work in any binary,\\ncompressed, marked up, nonproprietary or proprietary form, including\\nany word processing or hypertext form. However, if you provide access\\nto or distribute copies of a Project Gutenberg™ work in a format\\nother than “Plain Vanilla ASCII” or other format used in the official\\nversion posted on the official Project Gutenberg™ website\\n(www.gutenberg.org), you must, at no additional cost, fee or expense\\nto the user, provide a copy, a means of exporting a copy, or a means\\nof obtaining a copy upon request, of the work in its original “Plain\\nVanilla ASCII” or other form. Any alternate format must include the\\nfull Project Gutenberg™ License as specified in paragraph 1.E.1.\\n\\n1.E.7. Do not charge a fee for access to, viewing, displaying,\\nperforming, copying or distributing any Project Gutenberg™ works\\nunless you comply with paragraph 1.E.8 or 1.E.9.\\n\\n1.E.8. You may charge a reasonable fee for copies of or providing\\naccess to or distributing Project Gutenberg™ electronic works\\nprovided that:\\n\\n    • You pay a royalty fee of 20% of the gross profits you derive from\\n        the use of Project Gutenberg™ works calculated using the method\\n        you already use to calculate your applicable taxes. The fee is owed\\n        to the owner of the Project Gutenberg™ trademark, but he has\\n        agreed to donate royalties under this paragraph to the Project\\n        Gutenberg Literary Archive Foundation. Royalty payments must be paid\\n        within 60 days following each date on which you prepare (or are\\n        legally required to prepare) your periodic tax returns. Royalty\\n        payments should be clearly marked as such and sent to the Project\\n        Gutenberg Literary Archive Foundation at the address specified in\\n        Section 4, “Information about donations to the Project Gutenberg\\n        Literary Archive Foundation.”\\n    \\n    • You provide a full refund of any money paid by a user who notifies\\n        you in writing (or by e-mail) within 30 days of receipt that s/he\\n        does not agree to the terms of the full Project Gutenberg™\\n        License. You must require such a user to return or destroy all\\n        copies of the works possessed in a physical medium and discontinue\\n        all use of and all access to other copies of Project Gutenberg™\\n        works.\\n    \\n    • You provide, in accordance with paragraph 1.F.3, a full refund of\\n        any money paid for a work or a replacement copy, if a defect in the\\n        electronic work is discovered and reported to you within 90 days of\\n        receipt of the work.\\n    \\n    • You comply with all other terms of this agreement for free\\n        distribution of Project Gutenberg™ works.\\n    \\n\\n1.E.9. If you wish to charge a fee or distribute a Project\\nGutenberg™ electronic work or group of works on different terms than\\nare set forth in this agreement, you must obtain permission in writing\\nfrom the Project Gutenberg Literary Archive Foundation, the manager of\\nthe Project Gutenberg™ trademark. Contact the Foundation as set\\nforth in Section 3 below.\\n\\n1.F.\\n\\n1.F.1. Project Gutenberg volunteers and employees expend considerable\\neffort to identify, do copyright research on, transcribe and proofread\\nworks not protected by U.S. copyright law in creating the Project\\nGutenberg™ collection. Despite these efforts, Project Gutenberg™\\nelectronic works, and the medium on which they may be stored, may\\ncontain “Defects,” such as, but not limited to, incomplete, inaccurate\\nor corrupt data, transcription errors, a copyright or other\\nintellectual property infringement, a defective or damaged disk or\\nother medium, a computer virus, or computer codes that damage or\\ncannot be read by your equipment.\\n\\n1.F.2. LIMITED WARRANTY, DISCLAIMER OF DAMAGES - Except for the “Right\\nof Replacement or Refund” described in paragraph 1.F.3, the Project\\nGutenberg Literary Archive Foundation, the owner of the Project\\nGutenberg™ trademark, and any other party distributing a Project\\nGutenberg™ electronic work under this agreement, disclaim all\\nliability to you for damages, costs and expenses, including legal\\nfees. YOU AGREE THAT YOU HAVE NO REMEDIES FOR NEGLIGENCE, STRICT\\nLIABILITY, BREACH OF WARRANTY OR BREACH OF CONTRACT EXCEPT THOSE\\nPROVIDED IN PARAGRAPH 1.F.3. YOU AGREE THAT THE FOUNDATION, THE\\nTRADEMARK OWNER, AND ANY DISTRIBUTOR UNDER THIS AGREEMENT WILL NOT BE\\nLIABLE TO YOU FOR ACTUAL, DIRECT, INDIRECT, CONSEQUENTIAL, PUNITIVE OR\\nINCIDENTAL DAMAGES EVEN IF YOU GIVE NOTICE OF THE POSSIBILITY OF SUCH\\nDAMAGE.\\n\\n1.F.3. LIMITED RIGHT OF REPLACEMENT OR REFUND - If you discover a\\ndefect in this electronic work within 90 days of receiving it, you can\\nreceive a refund of the money (if any) you paid for it by sending a\\nwritten explanation to the person you received the work from. If you\\nreceived the work on a physical medium, you must return the medium\\nwith your written explanation. The person or entity that provided you\\nwith the defective work may elect to provide a replacement copy in\\nlieu of a refund. If you received the work electronically, the person\\nor entity providing it to you may choose to give you a second\\nopportunity to receive the work electronically in lieu of a refund. If\\nthe second copy is also defective, you may demand a refund in writing\\nwithout further opportunities to fix the problem.\\n\\n1.F.4. Except for the limited right of replacement or refund set forth\\nin paragraph 1.F.3, this work is provided to you ‘AS-IS’, WITH NO\\nOTHER WARRANTIES OF ANY KIND, EXPRESS OR IMPLIED, INCLUDING BUT NOT\\nLIMITED TO WARRANTIES OF MERCHANTABILITY OR FITNESS FOR ANY PURPOSE.\\n\\n1.F.5. Some states do not allow disclaimers of certain implied\\nwarranties or the exclusion or limitation of certain types of\\ndamages. If any disclaimer or limitation set forth in this agreement\\nviolates the law of the state applicable to this agreement, the\\nagreement shall be interpreted to make the maximum disclaimer or\\nlimitation permitted by the applicable state law. The invalidity or\\nunenforceability of any provision of this agreement shall not void the\\nremaining provisions.\\n\\n1.F.6. INDEMNITY - You agree to indemnify and hold the Foundation, the\\ntrademark owner, any agent or employee of the Foundation, anyone\\nproviding copies of Project Gutenberg™ electronic works in\\naccordance with this agreement, and any volunteers associated with the\\nproduction, promotion and distribution of Project Gutenberg™\\nelectronic works, harmless from all liability, costs and expenses,\\nincluding legal fees, that arise directly or indirectly from any of\\nthe following which you do or cause to occur: (a) distribution of this\\nor any Project Gutenberg™ work, (b) alteration, modification, or\\nadditions or deletions to any Project Gutenberg™ work, and (c) any\\nDefect you cause.\\n\\nSection 2. Information about the Mission of Project Gutenberg™\\n\\nProject Gutenberg™ is synonymous with the free distribution of\\nelectronic works in formats readable by the widest variety of\\ncomputers including obsolete, old, middle-aged and new computers. It\\nexists because of the efforts of hundreds of volunteers and donations\\nfrom people in all walks of life.\\n\\nVolunteers and financial support to provide volunteers with the\\nassistance they need are critical to reaching Project Gutenberg™’s\\ngoals and ensuring that the Project Gutenberg™ collection will\\nremain freely available for generations to come. In 2001, the Project\\nGutenberg Literary Archive Foundation was created to provide a secure\\nand permanent future for Project Gutenberg™ and future\\ngenerations. To learn more about the Project Gutenberg Literary\\nArchive Foundation and how your efforts and donations can help, see\\nSections 3 and 4 and the Foundation information page at www.gutenberg.org.\\n\\nSection 3. Information about the Project Gutenberg Literary Archive Foundation\\n\\nThe Project Gutenberg Literary Archive Foundation is a non-profit\\n501(c)(3) educational corporation organized under the laws of the\\nstate of Mississippi and granted tax exempt status by the Internal\\nRevenue Service. The Foundation’s EIN or federal tax identification\\nnumber is 64-6221541. Contributions to the Project Gutenberg Literary\\nArchive Foundation are tax deductible to the full extent permitted by\\nU.S. federal laws and your state’s laws.\\n\\nThe Foundation’s business office is located at 809 North 1500 West,\\nSalt Lake City, UT 84116, (801) 596-1887. Email contact links and up\\nto date contact information can be found at the Foundation’s website\\nand official page at www.gutenberg.org/contact\\n\\nSection 4. Information about Donations to the Project Gutenberg\\nLiterary Archive Foundation\\n\\nProject Gutenberg™ depends upon and cannot survive without widespread\\npublic support and donations to carry out its mission of\\nincreasing the number of public domain and licensed works that can be\\nfreely distributed in machine-readable form accessible by the widest\\narray of equipment including outdated equipment. Many small donations\\n($1 to $5,000) are particularly important to maintaining tax exempt\\nstatus with the IRS.\\n\\nThe Foundation is committed to complying with the laws regulating\\ncharities and charitable donations in all 50 states of the United\\nStates. Compliance requirements are not uniform and it takes a\\nconsiderable effort, much paperwork and many fees to meet and keep up\\nwith these requirements. We do not solicit donations in locations\\nwhere we have not received written confirmation of compliance. To SEND\\nDONATIONS or determine the status of compliance for any particular state\\nvisit www.gutenberg.org/donate.\\n\\nWhile we cannot and do not solicit contributions from states where we\\nhave not met the solicitation requirements, we know of no prohibition\\nagainst accepting unsolicited donations from donors in such states who\\napproach us with offers to donate.\\n\\nInternational donations are gratefully accepted, but we cannot make\\nany statements concerning tax treatment of donations received from\\noutside the United States. U.S. laws alone swamp our small staff.\\n\\nPlease check the Project Gutenberg web pages for current donation\\nmethods and addresses. Donations are accepted in a number of other\\nways including checks, online payments and credit card donations. To\\ndonate, please visit: www.gutenberg.org/donate.\\n\\nSection 5. General Information About Project Gutenberg™ electronic works\\n\\nProfessor Michael S. Hart was the originator of the Project\\nGutenberg™ concept of a library of electronic works that could be\\nfreely shared with anyone. For forty years, he produced and\\ndistributed Project Gutenberg™ eBooks with only a loose network of\\nvolunteer support.\\n\\nProject Gutenberg™ eBooks are often created from several printed\\neditions, all of which are confirmed as not protected by copyright in\\nthe U.S. unless a copyright notice is included. Thus, we do not\\nnecessarily keep eBooks in compliance with any particular paper\\nedition.\\n\\nMost people start at our website which has the main PG search\\nfacility: www.gutenberg.org.\\n\\nThis website includes information about Project Gutenberg™,\\nincluding how to make donations to the Project Gutenberg Literary\\nArchive Foundation, how to help produce our new eBooks, and how to\\nsubscribe to our email newsletter to hear about new eBooks.\\n\\n\\n',\n",
       " 'start_char_idx': None,\n",
       " 'end_char_idx': None,\n",
       " 'text_template': '{metadata_str}\\n\\n{content}',\n",
       " 'metadata_template': '{key}: {value}',\n",
       " 'metadata_seperator': '\\n'}"
      ]
     },
     "execution_count": 35,
     "metadata": {},
     "output_type": "execute_result"
    }
   ],
   "source": [
    "documents[3].__dict__"
   ]
  },
  {
   "cell_type": "markdown",
   "metadata": {},
   "source": [
    "##### Manually Create Document Objects"
   ]
  },
  {
   "cell_type": "code",
   "execution_count": 22,
   "metadata": {},
   "outputs": [],
   "source": [
    "from llama_index.core import Document\n",
    "\n",
    "manual_document = Document(text=\"This is an example of a manual document\")"
   ]
  },
  {
   "cell_type": "code",
   "execution_count": 23,
   "metadata": {},
   "outputs": [
    {
     "data": {
      "text/plain": [
       "{'id_': '86252477-205c-4406-91b9-61b118a3356f',\n",
       " 'embedding': None,\n",
       " 'metadata': {},\n",
       " 'excluded_embed_metadata_keys': [],\n",
       " 'excluded_llm_metadata_keys': [],\n",
       " 'relationships': {},\n",
       " 'text': 'This is an example of a manual document',\n",
       " 'mimetype': 'text/plain',\n",
       " 'start_char_idx': None,\n",
       " 'end_char_idx': None,\n",
       " 'text_template': '{metadata_str}\\n\\n{content}',\n",
       " 'metadata_template': '{key}: {value}',\n",
       " 'metadata_seperator': '\\n'}"
      ]
     },
     "execution_count": 23,
     "metadata": {},
     "output_type": "execute_result"
    }
   ],
   "source": [
    "manual_document.__dict__"
   ]
  },
  {
   "cell_type": "markdown",
   "metadata": {},
   "source": [
    "##### Adding metadata\n",
    "\n",
    "You can add metadata in the document constructor:"
   ]
  },
  {
   "cell_type": "code",
   "execution_count": 24,
   "metadata": {},
   "outputs": [],
   "source": [
    "manual_document_with_metadata = Document(\n",
    "    text=\"This is an example of a manual document\",\n",
    "    metadata={\"filename\": \"made-up-file-name\", \"category\": \"imaginary-category\"}\n",
    ")"
   ]
  },
  {
   "cell_type": "code",
   "execution_count": 25,
   "metadata": {},
   "outputs": [
    {
     "data": {
      "text/plain": [
       "{'id_': '6ff441b2-16de-45c3-93ce-8c30267d859b',\n",
       " 'embedding': None,\n",
       " 'metadata': {'filename': 'made-up-file-name',\n",
       "  'category': 'imaginary-category'},\n",
       " 'excluded_embed_metadata_keys': [],\n",
       " 'excluded_llm_metadata_keys': [],\n",
       " 'relationships': {},\n",
       " 'text': 'This is an example of a manual document',\n",
       " 'mimetype': 'text/plain',\n",
       " 'start_char_idx': None,\n",
       " 'end_char_idx': None,\n",
       " 'text_template': '{metadata_str}\\n\\n{content}',\n",
       " 'metadata_template': '{key}: {value}',\n",
       " 'metadata_seperator': '\\n'}"
      ]
     },
     "execution_count": 25,
     "metadata": {},
     "output_type": "execute_result"
    }
   ],
   "source": [
    "manual_document_with_metadata.__dict__"
   ]
  },
  {
   "cell_type": "markdown",
   "metadata": {},
   "source": [
    "Or after the document is created"
   ]
  },
  {
   "cell_type": "code",
   "execution_count": 26,
   "metadata": {},
   "outputs": [],
   "source": [
    "manual_document.metadata={\"filename\": \"made-up-file-name\", \"category\": \"imaginary-category\"}"
   ]
  },
  {
   "cell_type": "code",
   "execution_count": 27,
   "metadata": {},
   "outputs": [
    {
     "data": {
      "text/plain": [
       "{'id_': '86252477-205c-4406-91b9-61b118a3356f',\n",
       " 'embedding': None,\n",
       " 'metadata': {'filename': 'made-up-file-name',\n",
       "  'category': 'imaginary-category'},\n",
       " 'excluded_embed_metadata_keys': [],\n",
       " 'excluded_llm_metadata_keys': [],\n",
       " 'relationships': {},\n",
       " 'text': 'This is an example of a manual document',\n",
       " 'mimetype': 'text/plain',\n",
       " 'start_char_idx': None,\n",
       " 'end_char_idx': None,\n",
       " 'text_template': '{metadata_str}\\n\\n{content}',\n",
       " 'metadata_template': '{key}: {value}',\n",
       " 'metadata_seperator': '\\n'}"
      ]
     },
     "execution_count": 27,
     "metadata": {},
     "output_type": "execute_result"
    }
   ],
   "source": [
    "manual_document.__dict__"
   ]
  },
  {
   "cell_type": "markdown",
   "metadata": {},
   "source": [
    "# 🔧 Transform the data\n",
    "\n",
    "After loading, we must process and transform data for retrieval. We need to transform the list of `Document` objects into `Node` objects \n",
    "\n",
    "- ✂️ Include chunking, extracting metadata, and embedding each chunk in transformations.\n",
    "\n",
    "- 🌟 Nodes are a first-class citizen in LlamaIndex, allowing direct definition or parsing from Documents.\n",
    "\n",
    "- 🔄 Transformation inputs and outputs are `Node` objects (Note: `Document` is subclass of `Node`).\n",
    "\n",
    "- 🛠️ Nodes are \"chunks\" of Documents, including text, images, etc., plus metadata and relationships.\n",
    "\n",
    "- 📊 `NodeParser` classes convert Documents into Nodes with all necessary attributes. There are [a number of](https://docs.llamaindex.ai/en/stable/module_guides/loading/node_parsers/modules.html) `NodeParser`'s you can choose from!\n",
    "\n",
    "- 📑 High-level API: Use `.from_documents()` for automatic parsing and chunking of Document objects.\n",
    "\n",
    "- 🔍 Underlying process splits Document into Node objects, maintaining text and metadata with a link to their parent Document.\n"
   ]
  },
  {
   "cell_type": "code",
   "execution_count": 40,
   "metadata": {},
   "outputs": [
    {
     "data": {
      "application/vnd.jupyter.widget-view+json": {
       "model_id": "13eead48b662427f94f9b7c16e34d87d",
       "version_major": 2,
       "version_minor": 0
      },
      "text/plain": [
       "Parsing nodes:   0%|          | 0/10 [00:00<?, ?it/s]"
      ]
     },
     "metadata": {},
     "output_type": "display_data"
    }
   ],
   "source": [
    "from llama_index.legacy.node_parser import SentenceSplitter\n",
    "\n",
    "parser = SentenceSplitter(\n",
    "    chunk_size=128, # in tokens\n",
    "    chunk_overlap=16, #in tokens\n",
    "    paragraph_separator=\"\\n\\n\"\n",
    ")\n",
    "\n",
    "nodes = parser.get_nodes_from_documents(documents, show_progress=True)"
   ]
  },
  {
   "cell_type": "code",
   "execution_count": 41,
   "metadata": {},
   "outputs": [
    {
     "data": {
      "text/plain": [
       "llama_index.legacy.schema.TextNode"
      ]
     },
     "execution_count": 41,
     "metadata": {},
     "output_type": "execute_result"
    }
   ],
   "source": [
    "type(nodes[42])"
   ]
  },
  {
   "cell_type": "code",
   "execution_count": 43,
   "metadata": {},
   "outputs": [
    {
     "data": {
      "text/plain": [
       "13280"
      ]
     },
     "execution_count": 43,
     "metadata": {},
     "output_type": "execute_result"
    }
   ],
   "source": [
    "len(nodes)"
   ]
  },
  {
   "cell_type": "code",
   "execution_count": 42,
   "metadata": {},
   "outputs": [
    {
     "data": {
      "text/plain": [
       "{'id_': '7a759140-2ff9-4644-b48f-5a08554355e4',\n",
       " 'embedding': None,\n",
       " 'metadata': {'file_path': '../data/pg1.txt',\n",
       "  'file_name': 'pg1.txt',\n",
       "  'file_type': 'text/plain',\n",
       "  'file_size': 118834,\n",
       "  'creation_date': '2024-11-13',\n",
       "  'last_modified_date': '2024-11-13',\n",
       "  'last_accessed_date': '2024-11-13'},\n",
       " 'excluded_embed_metadata_keys': ['file_name',\n",
       "  'file_type',\n",
       "  'file_size',\n",
       "  'creation_date',\n",
       "  'last_modified_date',\n",
       "  'last_accessed_date'],\n",
       " 'excluded_llm_metadata_keys': ['file_name',\n",
       "  'file_type',\n",
       "  'file_size',\n",
       "  'creation_date',\n",
       "  'last_modified_date',\n",
       "  'last_accessed_date'],\n",
       " 'relationships': {<NodeRelationship.SOURCE: '1'>: RelatedNodeInfo(node_id='816051de-76b9-4ac5-8f29-4179421b8669', node_type=<ObjectType.DOCUMENT: '4'>, metadata={'file_path': '../data/pg1.txt', 'file_name': 'pg1.txt', 'file_type': 'text/plain', 'file_size': 118834, 'creation_date': '2024-11-13', 'last_modified_date': '2024-11-13', 'last_accessed_date': '2024-11-13'}, hash='953b36650c1393d6927cd0b5149d9bb7ea6edee9b53fa704a0f6b053c7c4c2eb'),\n",
       "  <NodeRelationship.PREVIOUS: '2'>: RelatedNodeInfo(node_id='aec1b981-b72b-4e1c-82fd-665b9a180b35', node_type=<ObjectType.TEXT: '1'>, metadata={'file_path': '../data/pg1.txt', 'file_name': 'pg1.txt', 'file_type': 'text/plain', 'file_size': 118834, 'creation_date': '2024-11-13', 'last_modified_date': '2024-11-13', 'last_accessed_date': '2024-11-13'}, hash='fa717cdbdac013ce919f14c6c04c186dc5d48b38b7a81ee8ba9fc258bd282375'),\n",
       "  <NodeRelationship.NEXT: '3'>: RelatedNodeInfo(node_id='bc920092-5e3e-4834-837c-d226050117f8', node_type=<ObjectType.TEXT: '1'>, metadata={}, hash='7314dd8dd8816ee0d4d71632fd3bcb3fceb11fc115b8d5350be4290b073b3abf')},\n",
       " 'text': 'To that world assembly of sovereign states:  the United Nations. . .\\nour last best hope in an age where the instruments of war\\nhave far outpaced the instruments of peace, we renew our pledge\\nof support. . .to prevent it from becoming merely a forum for\\ninvective. . .to strengthen its shield of the new and the weak. . .\\nand to enlarge the area in which its writ may run.',\n",
       " 'start_char_idx': 17522,\n",
       " 'end_char_idx': 17893,\n",
       " 'text_template': '{metadata_str}\\n\\n{content}',\n",
       " 'metadata_template': '{key}: {value}',\n",
       " 'metadata_seperator': '\\n'}"
      ]
     },
     "execution_count": 42,
     "metadata": {},
     "output_type": "execute_result"
    }
   ],
   "source": [
    "nodes[42].__dict__"
   ]
  },
  {
   "cell_type": "markdown",
   "metadata": {},
   "source": [
    "You can also choose to construct Node objects manually.\n"
   ]
  },
  {
   "cell_type": "code",
   "execution_count": 44,
   "metadata": {},
   "outputs": [],
   "source": [
    "from llama_index.core.schema import TextNode, NodeRelationship, RelatedNodeInfo\n",
    "\n",
    "node1 = TextNode(text=\"Dad is married to Mom\", id_=\"001\")\n",
    "\n",
    "node2 = TextNode(text=\"Dad is Son's dad\", id_=\"002\")"
   ]
  },
  {
   "cell_type": "markdown",
   "metadata": {},
   "source": [
    "## NodeRelationships\n",
    "\n",
    "You can set relationships between nodes.\n",
    "\n",
    "- 🌐 NodeRelationships assign connections between chunks of text. It's useful for:\n",
    "  - Documents organized in a hierarchical manner (e.g., book, chapter, section, subsection)\n",
    "  - Maintaining sequential order\n",
    "  - Other complex relationships (ie, in legal documents for links a clause or other cases) \n",
    "\n",
    "- 🔍 NodeRelationships help retrieve not just the relevant section, but also related sections that might provide additional context or information."
   ]
  },
  {
   "cell_type": "code",
   "execution_count": 45,
   "metadata": {},
   "outputs": [],
   "source": [
    "node1.relationships[NodeRelationship.NEXT] = RelatedNodeInfo(\n",
    "    node_id=node2.node_id\n",
    ")\n",
    "\n",
    "node2.relationships[NodeRelationship.PREVIOUS] = RelatedNodeInfo(\n",
    "    node_id=node1.node_id\n",
    ")\n",
    "nodes = [node1, node2]\n",
    "\n",
    "node2.relationships[NodeRelationship.PARENT] = RelatedNodeInfo(\n",
    "    node_id=node1.node_id, metadata={\"Romie\": \"Mom\", \"Harpreet\": \"Dad\", \"Jind\":\"Daughter\", \"Jugaad\":\"Son\"}, \n",
    ")"
   ]
  },
  {
   "cell_type": "markdown",
   "metadata": {},
   "source": [
    "A bit of clean up, let's just go ahead and delete the text files we downloaded since we won't need them going forward.\n"
   ]
  },
  {
   "cell_type": "code",
   "execution_count": 47,
   "metadata": {},
   "outputs": [],
   "source": [
    "!rm -rf ../data"
   ]
  }
 ],
 "metadata": {
  "kernelspec": {
   "display_name": "lil_llama_index",
   "language": "python",
   "name": "python3"
  },
  "language_info": {
   "codemirror_mode": {
    "name": "ipython",
    "version": 3
   },
   "file_extension": ".py",
   "mimetype": "text/x-python",
   "name": "python",
   "nbconvert_exporter": "python",
   "pygments_lexer": "ipython3",
   "version": "3.10.15"
  }
 },
 "nbformat": 4,
 "nbformat_minor": 2
}
