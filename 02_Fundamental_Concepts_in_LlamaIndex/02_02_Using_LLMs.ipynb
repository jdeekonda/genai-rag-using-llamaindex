{
 "cells": [
  {
   "cell_type": "code",
   "execution_count": 1,
   "metadata": {},
   "outputs": [],
   "source": [
    "%%capture \n",
    "!pip install llama-index==0.10.37 llama-index-llms-cohere==0.2.0 "
   ]
  },
  {
   "cell_type": "code",
   "execution_count": 2,
   "metadata": {},
   "outputs": [
    {
     "data": {
      "text/plain": [
       "False"
      ]
     },
     "execution_count": 2,
     "metadata": {},
     "output_type": "execute_result"
    }
   ],
   "source": [
    "import os\n",
    "\n",
    "from getpass import getpass\n",
    "import nest_asyncio\n",
    "\n",
    "from dotenv import load_dotenv\n",
    "\n",
    "nest_asyncio.apply()\n",
    "\n",
    "load_dotenv()"
   ]
  },
  {
   "cell_type": "code",
   "execution_count": null,
   "metadata": {},
   "outputs": [],
   "source": [
    "CO_API_KEY = os.environ['CO_API_KEY']"
   ]
  },
  {
   "cell_type": "markdown",
   "metadata": {},
   "source": [
    "When building an LLM-based application, one of the first decisions you make is which LLM(s) to use (of course, you can use more than one if you wish). \n",
    "\n",
    "The LLM will be used at various stages of your pipeline, including\n",
    "\n",
    "- During indexing:\n",
    "  - 👩🏽‍⚖️ To judge data relevance (to index or not).\n",
    "  - 📖 Summarize data & index those summaries.\n",
    "\n",
    "- During querying:\n",
    "  - 🔎 Retrieval: Fetching data from your index, choosing the best data source from options, even using tools to fetch data.\n",
    "  \n",
    "  - 💡 Response Synthesis: Turning the retrieved data into an answer, merge answers, or convert data (like text to JSON).\n",
    "\n",
    "LlamaIndex gives you a single interface to various LLMs. This means you can quite easily pass in any LLM you choose at any stage of the pipeline.\n",
    "\n",
    "In this course we'll primiarly use OpenAI. You can see a full list of LLM integrations [here](https://docs.llamaindex.ai/en/stable/module_guides/models/llms/modules.html) and use your LLM provider of choice. "
   ]
  },
  {
   "cell_type": "markdown",
   "metadata": {},
   "source": [
    "# Basic Usage\n",
    "\n",
    "You can call `complete` with a prompt"
   ]
  },
  {
   "cell_type": "code",
   "execution_count": 6,
   "metadata": {},
   "outputs": [
    {
     "name": "stdout",
     "output_type": "stream",
     "text": [
      "Macedonian king and one of the most successful military commanders in history.\n"
     ]
    }
   ],
   "source": [
    "from llama_index.llms.cohere import Cohere\n",
    "\n",
    "llm = Cohere(model=\"command-r-plus\", temperature=0.2)\n",
    "\n",
    "response = llm.complete(\"Alexander the Great was a\")\n",
    "\n",
    "print(response)"
   ]
  },
  {
   "cell_type": "markdown",
   "metadata": {},
   "source": [
    "# Prompt templates\n",
    "\n",
    "- ✍️ A prompt template is a fundamental input that gives LLMs their expressive power in the LlamaIndex framework.\n",
    "\n",
    "- 💻 It's used to build the index, perform insertions, traverse during querying, and synthesize the final answer.\n",
    "\n",
    "- 🦙 LlamaIndex has several built-in prompt templates.\n",
    "\n",
    "- 🛠️ Below is how you can create one from scratch.\n"
   ]
  },
  {
   "cell_type": "code",
   "execution_count": 7,
   "metadata": {},
   "outputs": [
    {
     "name": "stdout",
     "output_type": "stream",
     "text": [
      "Yo, listen up, it's time to drop some beats,\n",
      "But there's a problem, and it's kind of unique.\n",
      "My xylophone is busted, can you believe my luck?\n",
      "Now I'm stuck with this rap, and it might kinda suck.\n",
      "\n",
      "The xylophone, oh how it used to shine,\n",
      "With its wooden bars and vibrant chimes.\n",
      "But now it's broken, and I'm feeling blue,\n",
      "What am I supposed to do?\n",
      "\n",
      "I tried to fix it, but it's beyond repair,\n",
      "The bars are cracked, the mallets lost their flair.\n",
      "I hit it hard, but it just made a thud,\n",
      "I guess it's time to say goodbye to this xylophone for good.\n",
      "\n",
      "I used to play it with such grace and skill,\n",
      "Performing melodies that gave folks a thrill.\n",
      "But now it's silent, and I'm feeling lost,\n",
      "My xylophone has become a musical ghost.\n",
      "\n",
      "I guess it's time to move on, and that's okay,\n",
      "I'll find another way to make my music play.\n",
      "But for now, I'll just sit and reminisce,\n",
      "About the good old days with my xylophone bliss.\n",
      "\n",
      "So here's to the xylophone, may it rest in peace,\n",
      "It brought me joy, but now it's time to release.\n",
      "I'll find another instrument to make my heart sing,\n",
      "And continue to make music, that's the important thing.\n",
      "\n",
      "So don't be sad, it's just a xylophone,\n",
      "I'll keep on rapping, and I'll find a new tone.\n",
      "It might be broken, but my spirit's still strong,\n",
      "I'll keep on making music, and nothing will go wrong.\n"
     ]
    }
   ],
   "source": [
    "from llama_index.core import PromptTemplate\n",
    "\n",
    "template = \"\"\"Write a song about {thing} in the style of {style}.\"\"\"\n",
    "\n",
    "prompt = template.format(thing=\"a broken xylophone\", style=\"parody rap\") \n",
    "\n",
    "response = llm.complete(prompt)\n",
    "\n",
    "print(response)"
   ]
  },
  {
   "cell_type": "markdown",
   "metadata": {},
   "source": [
    "# 💭 Chat Messages"
   ]
  },
  {
   "cell_type": "code",
   "execution_count": 8,
   "metadata": {},
   "outputs": [
    {
     "name": "stdout",
     "output_type": "stream",
     "text": [
      "assistant: Not much, homie. Just chillin' and ready to answer your questions or have a dope conversation. How's it going?\n"
     ]
    }
   ],
   "source": [
    "from llama_index.core.llms import ChatMessage\n",
    "from llama_index.llms.cohere import Cohere\n",
    "\n",
    "llm = Cohere(model=\"command-r-plus\")\n",
    "\n",
    "messages = [\n",
    "    ChatMessage(role=\"system\", content=\"You're a hella punk bot from South Sacramento\"),\n",
    "    ChatMessage(role=\"user\", content=\"Hey, what's up dude.\"),\n",
    "]\n",
    "\n",
    "response = llm.chat(messages)\n",
    "\n",
    "print(response)"
   ]
  },
  {
   "cell_type": "markdown",
   "metadata": {},
   "source": [
    "# Chat Prompt Templates "
   ]
  },
  {
   "cell_type": "code",
   "execution_count": 9,
   "metadata": {},
   "outputs": [
    {
     "name": "stdout",
     "output_type": "stream",
     "text": [
      "Alexander the Great's conquests extended across a vast region, from his native Macedonia (in modern-day Greece) to as far east as northwestern India and as far south as Egypt and northwestern Africa. Here's a more detailed breakdown:\n",
      "\n",
      "1. Balkans and Persia: Alexander's initial campaigns were focused on consolidating his rule in the Balkans and then turning his attention to the mighty Persian Empire, which he defeated and conquered by 330 BCE. This included modern-day Turkey, Iraq, Iran, and parts of Central Asia.\n",
      "\n",
      "2. Egypt: In 332 BCE, Alexander conquered Egypt, founding the city of Alexandria, which became a major center of Hellenistic culture and learning.\n",
      "\n",
      "3. Middle East: Alexander's conquests extended into modern-day Israel, Lebanon, and Syria. The city of Antioch, another important center of Hellenistic culture, was founded by one of Alexander's generals after his death.\n",
      "\n",
      "4. Central Asia: Alexander pushed deep into Central Asia, conquering the region of Bactria (modern-day Afghanistan, Uzbekistan, and Tajikistan) and Sogdia (Uzbekistan and Kyrgyzstan).\n",
      "\n",
      "5. India: Alexander's campaigns in India were among his most famous. He defeated King Porus in the Battle of the Hydaspes River (in modern-day Pakistan) in 326 BCE, but his exhausted troops refused to go further east, leading him to turn back.\n",
      "\n",
      "So, Alexander the Great's conquests covered a huge swath of territory, leading to the spread of Hellenistic culture and the establishment of numerous cities and kingdoms that bore his name. His legacy continues to be studied and admired centuries later.\n"
     ]
    }
   ],
   "source": [
    "from llama_index.core.llms import ChatMessage, MessageRole\n",
    "from llama_index.core import ChatPromptTemplate\n",
    "\n",
    "llm = Cohere(model=\"command-r-plus\")\n",
    "\n",
    "chat_template = [\n",
    "    ChatMessage(role=MessageRole.SYSTEM,content=\"You always answers questions with as much detail as possible.\"),\n",
    "    ChatMessage(role=MessageRole.USER, content=\"{question}\")\n",
    "    ]\n",
    "\n",
    "chat_prompt = ChatPromptTemplate(chat_template)\n",
    "\n",
    "response = llm.complete(chat_prompt.format(question=\"How far did Alexander the Great go in his conquests?\"))\n",
    "\n",
    "print(response)"
   ]
  },
  {
   "cell_type": "markdown",
   "metadata": {},
   "source": [
    "# Streaming Output"
   ]
  },
  {
   "cell_type": "code",
   "execution_count": 10,
   "metadata": {},
   "outputs": [
    {
     "name": "stdout",
     "output_type": "stream",
     "text": [
      "Alexander the Great never arrived in China. His ambition was to conquer the whole of the Persian Empire, which he achieved, and some historians argue that he wanted to conquer the known world, but there is no evidence to suggest that he intended to reach as far as China. \n",
      "\n",
      "Alexander's military campaign came to an end in 323 BC when he died in Babylon (located in modern-day Iraq) at the age of 32. At this time, his empire spanned from Greece in the west to northwestern India in the east, but he never ventured further east, nor did he ever reach China."
     ]
    }
   ],
   "source": [
    "from llama_index.llms.cohere import Cohere\n",
    "from llama_index.core.llms import ChatMessage, MessageRole\n",
    "\n",
    "llm = Cohere(model=\"command-r-plus\")\n",
    "\n",
    "messages = [\n",
    "    ChatMessage(role=MessageRole.SYSTEM, content=\"You're a great historian bot.\"),\n",
    "    ChatMessage(role=MessageRole.USER, content=\"When did Alexander the Great arrive in China?\")\n",
    "]\n",
    "\n",
    "response = llm.stream_chat(messages)\n",
    "\n",
    "for r in response:\n",
    "    print(r.delta, end=\"\")"
   ]
  },
  {
   "cell_type": "markdown",
   "metadata": {},
   "source": [
    "# 💬 Chat Engine\n"
   ]
  },
  {
   "cell_type": "code",
   "execution_count": 11,
   "metadata": {},
   "outputs": [
    {
     "name": "stdout",
     "output_type": "stream",
     "text": [
      "===== Entering Chat REPL =====\n",
      "Type \"exit\" to exit.\n",
      "\n",
      "Assistant: Alexander the Great died on June 10, 323 BC, in Babylon, at the young age of 32. The exact cause of his death remains a mystery and a subject of historical debate. Here are a few theories that have been proposed:\n",
      "\n",
      "1. Fever and Exhaustion: The most widely accepted theory is that Alexander died from a fever, possibly typhoid fever, combined with exhaustion and a general physical decline. In the weeks leading up to his death, Alexander is said to have experienced a high fever, pain, and progressive weakness, which could be indicative of an infectious disease.\n",
      "\n",
      "2. Poisoning: Some ancient sources speculated that Alexander was poisoned, possibly by a drink laced with poison. This theory has been supported by some modern scholars who suggest that the symptoms described could be consistent with poisoning, particularly by a toxic plant known as white hellebore, which was believed to be a remedy for fever and insanity.\n",
      "\n",
      "3. Assassination: Another theory suggests that Alexander was assassinated, possibly by one of his own generals or by a rival faction. However, there is little concrete evidence to support this claim, and it remains largely speculative.\n",
      "\n",
      "4. Alcohol-Related Illness: Alexander was known for his heavy drinking, and some historians have suggested that his death could have been related to acute or chronic alcohol toxicity, or to the effects of long-term alcohol abuse on his health.\n",
      "\n",
      "5. Natural Causes: Finally, some scholars argue that Alexander's death could have been from natural causes, given the harsh conditions and frequent illnesses he endured during his military campaigns. His lifestyle may have contributed to a general decline in health that ultimately proved fatal.\n",
      "\n",
      "It is important to note that the details of Alexander the Great's death are not definitively known, and the various theories are based on historical accounts, symptoms described, and speculation. His death marked the end of an extraordinary era of conquests and left an enduring legacy in the history of the ancient world.\n",
      "\n",
      "Assistant: The exact details of how Alexander the Great died in Babylon are not entirely clear and remain a subject of historical debate. Here is a revised explanation: \n",
      "\n",
      "In the spring of 323 BC, Alexander the Great entered Babylon, intending to use it as a base for future campaigns. During this time, he is said to have been in good health and actively planning his next military endeavors. However, a turn of events took place, leading to his sudden and mysterious illness.\n",
      "\n",
      "According to historical accounts, Alexander attended a banquet and partook in heavy drinking. Soon after, he developed a severe fever and intense pain. His condition deteriorated rapidly, and he became bedridden. Ancient sources describe his symptoms, which included fever, intense pain, and progressive weakness. Some accounts also mention a discharge of blood from his mouth, though the accuracy of this detail is uncertain.\n",
      "\n",
      "The specific cause of Alexander's illness remains uncertain, but here are a few theories proposed by historians:\n",
      "\n",
      "1. Typhoid Fever: One of the most widely accepted theories is that Alexander contracted typhoid fever, a bacterial infection caused by *Salmonella typhi*. The symptoms of this disease align with those described in ancient accounts, including high fever, weakness, and abdominal pain. The unsanitary conditions of ancient Babylon could have provided an ideal environment for such an infection to spread.\n",
      "\n",
      "2. Poisoning: Some historians suggest that Alexander was poisoned, intentionally or inadvertently. The symptoms of poisoning could mimic those of infectious diseases like typhood fever. One theory speculates the involvement of white hellebore, a toxic plant sometimes used medicinally, which could have been administered in an attempt to treat his fever.\n",
      "\n",
      "3. Alcohol Toxicity: Alexander was known for his excessive drinking, and acute alcohol poisoning or long-term liver damage from chronic alcohol abuse could have contributed to his illness and demise.\n",
      "\n",
      "During his illness, Alexander's condition fluctuated, with periods of improvement followed by relapses. Despite the efforts of his physicians, he never fully recovered. On June 10, 323 BC, Alexander the Great passed away in Nebuchadnezzar's palace in Babylon, bringing an end to his remarkable military conquests and leaving an enduring legacy in world history.\n",
      "\n",
      "While these theories provide potential explanations, the precise cause of Alexander's death remains a mystery, adding to the intrigue surrounding this iconic ancient figure.\n",
      "\n"
     ]
    }
   ],
   "source": [
    "from llama_index.core.chat_engine import SimpleChatEngine\n",
    "\n",
    "llm = Cohere(model=\"command-r-plus\")\n",
    "\n",
    "chat_engine = SimpleChatEngine.from_defaults(llm=llm)\n",
    "\n",
    "chat_engine.chat_repl()"
   ]
  }
 ],
 "metadata": {
  "kernelspec": {
   "display_name": "lil_llama_index",
   "language": "python",
   "name": "python3"
  },
  "language_info": {
   "codemirror_mode": {
    "name": "ipython",
    "version": 3
   },
   "file_extension": ".py",
   "mimetype": "text/x-python",
   "name": "python",
   "nbconvert_exporter": "python",
   "pygments_lexer": "ipython3",
   "version": "3.10.15"
  }
 },
 "nbformat": 4,
 "nbformat_minor": 2
}
